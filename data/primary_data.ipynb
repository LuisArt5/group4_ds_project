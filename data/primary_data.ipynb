{
 "cells": [
  {
   "cell_type": "code",
   "execution_count": 47,
   "id": "f378ce0f-13cd-4624-9510-c985ef8b563d",
   "metadata": {},
   "outputs": [],
   "source": [
    "import xlrd\n",
    "import os \n",
    "import sqlite3"
   ]
  },
  {
   "cell_type": "code",
   "execution_count": 25,
   "id": "b090a2ae-3067-4622-8929-3c26df0f8d31",
   "metadata": {},
   "outputs": [
    {
     "name": "stdout",
     "output_type": "stream",
     "text": [
      "Saved Data Dictonaries:\n",
      "\tlistings.csv detail v4.3\n",
      "\tlistings.csv detail v4\n",
      "\treviews.csv v1\n",
      "\tcalendar.csv v2\n"
     ]
    }
   ],
   "source": [
    "# Full path to xls, including filename\n",
    "xls_path = './primary/airbnb_data_dict.xls'\n",
    "airbnb_file = xlrd.open_workbook_xls(xls_path)\n",
    "airbnb_var_sheets = airbnb_file.sheets()\n",
    "\n",
    "variable_dict = {}\n",
    "print('Saved Data Dictonaries:')\n",
    "for s in airbnb_var_sheets:\n",
    "    s_name = s.name\n",
    "    var_stored = True\n",
    "    \n",
    "    if s_name.rfind('listings.csv detail v4') != -1:\n",
    "        variable_dict['listings'] = s\n",
    "        \n",
    "    elif s_name.rfind('reviews.csv v1') != -1:\n",
    "        variable_dict['reviews'] = s\n",
    "        \n",
    "    elif s_name.rfind('calendar.csv v2') != -1:\n",
    "        variable_dict['calendar'] = s\n",
    "        \n",
    "    else:\n",
    "        var_stored = False\n",
    "        \n",
    "    if var_stored:\n",
    "        print(f'\\t{s_name}')"
   ]
  },
  {
   "cell_type": "code",
   "execution_count": 26,
   "id": "3115edcf-934d-43c9-9832-96bd513161ed",
   "metadata": {},
   "outputs": [
    {
     "name": "stdout",
     "output_type": "stream",
     "text": [
      "Sheet  1:<listings.csv detail v4>\n",
      "Sheet  5:<reviews.csv v1>\n",
      "Sheet  6:<calendar.csv v2>\n"
     ]
    }
   ],
   "source": [
    "for v_name in variable_dict:\n",
    "    cur_sheet = variable_dict[v_name]\n",
    "    print(cur_sheet)\n",
    "    \n",
    "    "
   ]
  },
  {
   "cell_type": "code",
   "execution_count": 43,
   "id": "3aa492c7-b9c1-4b4d-b47b-9f7797a22506",
   "metadata": {},
   "outputs": [],
   "source": [
    "cur_sheet = variable_dict['listings']\n",
    "field_vals = cur_sheet.col_values(0)[8:82]\n",
    "type_vals = cur_sheet.col_values(1)[8:82]"
   ]
  },
  {
   "cell_type": "code",
   "execution_count": 45,
   "id": "08645bd6-4277-4c9c-9ba2-cb535fade1e3",
   "metadata": {},
   "outputs": [
    {
     "data": {
      "text/plain": [
       "['integer',\n",
       " 'text',\n",
       " 'bigint',\n",
       " 'datetime',\n",
       " 'text',\n",
       " 'text',\n",
       " 'text',\n",
       " 'text',\n",
       " 'integer',\n",
       " 'text',\n",
       " 'text',\n",
       " 'date',\n",
       " 'text',\n",
       " 'text',\n",
       " '',\n",
       " '',\n",
       " '',\n",
       " 'boolean [t=true; f=false]',\n",
       " 'text',\n",
       " 'text',\n",
       " 'text',\n",
       " 'text',\n",
       " 'text',\n",
       " '',\n",
       " 'boolean [t=true; f=false]',\n",
       " 'boolean [t=true; f=false]',\n",
       " 'text',\n",
       " 'text',\n",
       " 'text',\n",
       " 'numeric',\n",
       " 'numeric',\n",
       " 'text',\n",
       " 'text',\n",
       " 'integer',\n",
       " 'numeric',\n",
       " 'string',\n",
       " 'integer',\n",
       " 'integer',\n",
       " 'json',\n",
       " 'currency',\n",
       " 'integer',\n",
       " 'integer',\n",
       " 'integer',\n",
       " 'integer',\n",
       " 'integer',\n",
       " 'integer',\n",
       " 'numeric',\n",
       " 'numeric',\n",
       " 'date',\n",
       " 'boolean',\n",
       " 'integer',\n",
       " 'integer',\n",
       " 'integer',\n",
       " 'integer',\n",
       " 'date',\n",
       " 'integer',\n",
       " 'integer',\n",
       " 'integer',\n",
       " 'date',\n",
       " 'date',\n",
       " '',\n",
       " '',\n",
       " '',\n",
       " '',\n",
       " '',\n",
       " '',\n",
       " '',\n",
       " 'text',\n",
       " 'boolean',\n",
       " 'integer',\n",
       " 'integer',\n",
       " 'integer',\n",
       " 'integer',\n",
       " 'numeric']"
      ]
     },
     "execution_count": 45,
     "metadata": {},
     "output_type": "execute_result"
    }
   ],
   "source": [
    "type_vals"
   ]
  },
  {
   "cell_type": "code",
   "execution_count": null,
   "id": "b3ba7ede-d2d0-496b-8196-e7c7536c2bda",
   "metadata": {},
   "outputs": [],
   "source": []
  }
 ],
 "metadata": {
  "kernelspec": {
   "display_name": "Python (en685648)",
   "language": "python",
   "name": "en685648"
  },
  "language_info": {
   "codemirror_mode": {
    "name": "ipython",
    "version": 3
   },
   "file_extension": ".py",
   "mimetype": "text/x-python",
   "name": "python",
   "nbconvert_exporter": "python",
   "pygments_lexer": "ipython3",
   "version": "3.10.8"
  }
 },
 "nbformat": 4,
 "nbformat_minor": 5
}
