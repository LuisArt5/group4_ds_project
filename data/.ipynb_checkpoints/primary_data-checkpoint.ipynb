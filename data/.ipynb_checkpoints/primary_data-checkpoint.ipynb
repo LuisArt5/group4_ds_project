{
 "cells": [
  {
   "cell_type": "code",
   "execution_count": 1,
   "id": "f378ce0f-13cd-4624-9510-c985ef8b563d",
   "metadata": {},
   "outputs": [],
   "source": [
    "import xlrd\n",
    "import os \n",
    "import sqlite3"
   ]
  },
  {
   "cell_type": "code",
   "execution_count": 2,
   "id": "b090a2ae-3067-4622-8929-3c26df0f8d31",
   "metadata": {},
   "outputs": [
    {
     "name": "stdout",
     "output_type": "stream",
     "text": [
      "Saved Data Dictonaries:\n",
      "\tlistings.csv detail v4.3\n",
      "\tlistings.csv detail v4\n",
      "\treviews.csv v1\n",
      "\tcalendar.csv v2\n"
     ]
    }
   ],
   "source": [
    "# Full path to xls, including filename\n",
    "xls_path = './primary/airbnb_data_dict.xls'\n",
    "airbnb_file = xlrd.open_workbook_xls(xls_path)\n",
    "airbnb_var_sheets = airbnb_file.sheets()\n",
    "\n",
    "variable_dict = {}\n",
    "print('Saved Data Dictonaries:')\n",
    "for s in airbnb_var_sheets:\n",
    "    s_name = s.name\n",
    "    var_stored = True\n",
    "    \n",
    "    if s_name.rfind('listings.csv detail v4') != -1:\n",
    "        variable_dict['listings'] = s\n",
    "        \n",
    "    elif s_name.rfind('reviews.csv v1') != -1:\n",
    "        variable_dict['reviews'] = s\n",
    "        \n",
    "    elif s_name.rfind('calendar.csv v2') != -1:\n",
    "        variable_dict['calendar'] = s\n",
    "        \n",
    "    else:\n",
    "        var_stored = False\n",
    "        \n",
    "    if var_stored:\n",
    "        print(f'\\t{s_name}')"
   ]
  },
  {
   "cell_type": "code",
   "execution_count": 3,
   "id": "3115edcf-934d-43c9-9832-96bd513161ed",
   "metadata": {},
   "outputs": [
    {
     "name": "stdout",
     "output_type": "stream",
     "text": [
      "Sheet  1:<listings.csv detail v4>\n",
      "Sheet  5:<reviews.csv v1>\n",
      "Sheet  6:<calendar.csv v2>\n"
     ]
    }
   ],
   "source": [
    "for v_name in variable_dict:\n",
    "    cur_sheet = variable_dict[v_name]\n",
    "    print(cur_sheet)    "
   ]
  },
  {
   "cell_type": "code",
   "execution_count": 4,
   "id": "3aa492c7-b9c1-4b4d-b47b-9f7797a22506",
   "metadata": {},
   "outputs": [],
   "source": [
    "cur_sheet = variable_dict['listings']\n",
    "field_vals = cur_sheet.col_values(0)[8:82]\n",
    "type_vals = cur_sheet.col_values(1)[8:82]"
   ]
  },
  {
   "cell_type": "code",
   "execution_count": 27,
   "id": "9a6bfb67-3f42-4dc3-826d-b6977dd8e4ec",
   "metadata": {},
   "outputs": [],
   "source": [
    "out = f'''-- Table: listings\n",
    "DROP TABLE IF EXISTS listings;\n",
    "CREATE TABLE listings(\n",
    "    id int PRIMARY KEY,\\n'''\n",
    "\n",
    "for val in range (1, len(field_vals)-1):\n",
    "    var_type = type_vals[val]\n",
    "    if var_type == 'boolean [t=true; f=false]':\n",
    "        var_type = 'boolean'\n",
    "    out+=f'''    {field_vals[val]} {var_type},\\n'''\n",
    "    \n",
    "out+=f'''    {field_vals[len(field_vals)-1]} {var_type}\n",
    ");'''"
   ]
  },
  {
   "cell_type": "code",
   "execution_count": 29,
   "id": "2562c529-1db5-4d44-b737-ad36ab31fae5",
   "metadata": {},
   "outputs": [],
   "source": [
    "text_file = open(\"datawarehouse.txt\", \"w\")\n",
    "n = text_file.write(out)\n",
    "text_file.close()"
   ]
  },
  {
   "cell_type": "code",
   "execution_count": 11,
   "id": "08645bd6-4277-4c9c-9ba2-cb535fade1e3",
   "metadata": {},
   "outputs": [
    {
     "data": {
      "text/plain": [
       "['id',\n",
       " 'listing_url',\n",
       " 'scrape_id',\n",
       " 'last_scraped',\n",
       " 'name',\n",
       " 'description',\n",
       " 'neighborhood_overview',\n",
       " 'picture_url',\n",
       " 'host_id',\n",
       " 'host_url',\n",
       " 'host_name',\n",
       " 'host_since',\n",
       " 'host_location',\n",
       " 'host_about',\n",
       " 'host_response_time',\n",
       " 'host_response_rate',\n",
       " 'host_acceptance_rate',\n",
       " 'host_is_superhost',\n",
       " 'host_thumbnail_url',\n",
       " 'host_picture_url',\n",
       " 'host_neighbourhood',\n",
       " 'host_listings_count',\n",
       " 'host_total_listings_count',\n",
       " 'host_verifications',\n",
       " 'host_has_profile_pic',\n",
       " 'host_identity_verified',\n",
       " 'neighbourhood',\n",
       " 'neighbourhood_cleansed',\n",
       " 'neighbourhood_group_cleansed',\n",
       " 'latitude',\n",
       " 'longitude',\n",
       " 'property_type',\n",
       " 'room_type',\n",
       " 'accommodates',\n",
       " 'bathrooms',\n",
       " 'bathrooms_text',\n",
       " 'bedrooms',\n",
       " 'beds',\n",
       " 'amenities',\n",
       " 'price',\n",
       " 'minimum_nights',\n",
       " 'maximum_nights',\n",
       " 'minimum_minimum_nights',\n",
       " 'maximum_minimum_nights',\n",
       " 'minimum_maximum_nights',\n",
       " 'maximum_maximum_nights',\n",
       " 'minimum_nights_avg_ntm',\n",
       " 'maximum_nights_avg_ntm',\n",
       " 'calendar_updated',\n",
       " 'has_availability',\n",
       " 'availability_30',\n",
       " 'availability_60',\n",
       " 'availability_90',\n",
       " 'availability_365',\n",
       " 'calendar_last_scraped',\n",
       " 'number_of_reviews',\n",
       " 'number_of_reviews_ltm',\n",
       " 'number_of_reviews_l30d',\n",
       " 'first_review',\n",
       " 'last_review',\n",
       " 'review_scores_rating',\n",
       " 'review_scores_accuracy',\n",
       " 'review_scores_cleanliness',\n",
       " 'review_scores_checkin',\n",
       " 'review_scores_communication',\n",
       " 'review_scores_location',\n",
       " 'review_scores_value',\n",
       " 'license',\n",
       " 'instant_bookable',\n",
       " 'calculated_host_listings_count',\n",
       " 'calculated_host_listings_count_entire_homes',\n",
       " 'calculated_host_listings_count_private_rooms',\n",
       " 'calculated_host_listings_count_shared_rooms',\n",
       " 'reviews_per_month']"
      ]
     },
     "execution_count": 11,
     "metadata": {},
     "output_type": "execute_result"
    }
   ],
   "source": [
    "out = f'''DROP TABLE IF EXISTS listings;\n",
    "CREATE TABLE listings(\n",
    "    id int PRIMARY KEY,'''"
   ]
  },
  {
   "cell_type": "code",
   "execution_count": null,
   "id": "b3ba7ede-d2d0-496b-8196-e7c7536c2bda",
   "metadata": {},
   "outputs": [],
   "source": []
  }
 ],
 "metadata": {
  "kernelspec": {
   "display_name": "Python (en685648)",
   "language": "python",
   "name": "en685648"
  },
  "language_info": {
   "codemirror_mode": {
    "name": "ipython",
    "version": 3
   },
   "file_extension": ".py",
   "mimetype": "text/x-python",
   "name": "python",
   "nbconvert_exporter": "python",
   "pygments_lexer": "ipython3",
   "version": "3.10.8"
  }
 },
 "nbformat": 4,
 "nbformat_minor": 5
}
